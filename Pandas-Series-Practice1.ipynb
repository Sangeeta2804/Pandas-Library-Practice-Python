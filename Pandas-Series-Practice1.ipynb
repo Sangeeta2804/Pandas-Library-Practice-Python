{
 "cells": [
  {
   "cell_type": "markdown",
   "id": "0e7a26d2-4ea5-4048-8f76-14481696b7d0",
   "metadata": {},
   "source": [
    "## Series"
   ]
  },
  {
   "cell_type": "code",
   "execution_count": 1,
   "id": "7eb2be23-56f7-44f4-b83b-75ab16c8a210",
   "metadata": {},
   "outputs": [],
   "source": [
    "import numpy as np"
   ]
  },
  {
   "cell_type": "code",
   "execution_count": 2,
   "id": "50a8cd37-111e-4dd0-8477-c47edf5267ca",
   "metadata": {},
   "outputs": [],
   "source": [
    "import pandas as pd"
   ]
  },
  {
   "cell_type": "code",
   "execution_count": 3,
   "id": "2b654844-0d0b-4db8-b7bc-fd17f966e41f",
   "metadata": {},
   "outputs": [],
   "source": [
    "labels = ['a','b','c']\n",
    "my_data = [10,20,30]\n",
    "arr = np.array(my_data)\n",
    "d= {'a':10,'b':20,'c':30}"
   ]
  },
  {
   "cell_type": "code",
   "execution_count": 4,
   "id": "3bc70089-adb6-4130-b752-5b5907c48463",
   "metadata": {},
   "outputs": [
    {
     "data": {
      "text/plain": [
       "0    10\n",
       "1    20\n",
       "2    30\n",
       "dtype: int64"
      ]
     },
     "execution_count": 4,
     "metadata": {},
     "output_type": "execute_result"
    }
   ],
   "source": [
    "pd.Series(data = my_data)"
   ]
  },
  {
   "cell_type": "code",
   "execution_count": 5,
   "id": "86ffab82-86e7-4897-a5e2-541a7364124a",
   "metadata": {},
   "outputs": [
    {
     "data": {
      "text/plain": [
       "a    10\n",
       "b    20\n",
       "c    30\n",
       "dtype: int64"
      ]
     },
     "execution_count": 5,
     "metadata": {},
     "output_type": "execute_result"
    }
   ],
   "source": [
    "pd.Series(my_data,labels)"
   ]
  },
  {
   "cell_type": "code",
   "execution_count": 6,
   "id": "5fb30484-9fdf-47c7-a899-1d6ba8cb2f56",
   "metadata": {},
   "outputs": [
    {
     "data": {
      "text/plain": [
       "a    10\n",
       "b    20\n",
       "c    30\n",
       "dtype: int64"
      ]
     },
     "execution_count": 6,
     "metadata": {},
     "output_type": "execute_result"
    }
   ],
   "source": [
    "pd.Series(data = my_data,index = labels)"
   ]
  },
  {
   "cell_type": "code",
   "execution_count": 7,
   "id": "50409766-d62c-4ecc-8d0a-2f9507225c30",
   "metadata": {},
   "outputs": [
    {
     "data": {
      "text/plain": [
       "a    10\n",
       "b    20\n",
       "c    30\n",
       "dtype: int64"
      ]
     },
     "execution_count": 7,
     "metadata": {},
     "output_type": "execute_result"
    }
   ],
   "source": [
    "pd.Series(arr,labels)"
   ]
  },
  {
   "cell_type": "code",
   "execution_count": 9,
   "id": "b79a1347-27cf-4e5c-a694-a76656ec3c23",
   "metadata": {},
   "outputs": [
    {
     "data": {
      "text/plain": [
       "a    10\n",
       "b    20\n",
       "c    30\n",
       "dtype: int64"
      ]
     },
     "execution_count": 9,
     "metadata": {},
     "output_type": "execute_result"
    }
   ],
   "source": [
    "pd.Series(d)"
   ]
  },
  {
   "cell_type": "code",
   "execution_count": 10,
   "id": "140c359f-1e10-4a46-ab5d-db247455e689",
   "metadata": {},
   "outputs": [
    {
     "data": {
      "text/plain": [
       "{'a': 10, 'b': 20, 'c': 30}"
      ]
     },
     "execution_count": 10,
     "metadata": {},
     "output_type": "execute_result"
    }
   ],
   "source": [
    "d"
   ]
  },
  {
   "cell_type": "code",
   "execution_count": 11,
   "id": "0ef3cefd-0307-482b-97b5-3d824ef9e60d",
   "metadata": {},
   "outputs": [
    {
     "data": {
      "text/plain": [
       "0      <built-in function sum>\n",
       "1    <built-in function print>\n",
       "2      <built-in function len>\n",
       "dtype: object"
      ]
     },
     "execution_count": 11,
     "metadata": {},
     "output_type": "execute_result"
    }
   ],
   "source": [
    "pd.Series(data=[sum,print,len])"
   ]
  },
  {
   "cell_type": "code",
   "execution_count": 16,
   "id": "ef661e3d-091f-4501-9241-5dcf12889831",
   "metadata": {},
   "outputs": [],
   "source": [
    "ser1 =pd.Series([1,2,3,4],['Guna','Indore','America','Shivpuri'])"
   ]
  },
  {
   "cell_type": "code",
   "execution_count": 17,
   "id": "b4d94b9c-9d5d-4392-aca0-1f1d54cf0c9e",
   "metadata": {},
   "outputs": [
    {
     "data": {
      "text/plain": [
       "Guna        1\n",
       "Indore      2\n",
       "America     3\n",
       "Shivpuri    4\n",
       "dtype: int64"
      ]
     },
     "execution_count": 17,
     "metadata": {},
     "output_type": "execute_result"
    }
   ],
   "source": [
    "ser1 "
   ]
  },
  {
   "cell_type": "code",
   "execution_count": 38,
   "id": "d2b46704-aded-479c-8480-7da465e58310",
   "metadata": {},
   "outputs": [],
   "source": [
    "ser2 =pd.Series([1,2,5,4],['Guna','Noida','Italy','Shivpuri'])"
   ]
  },
  {
   "cell_type": "code",
   "execution_count": 39,
   "id": "5304c56a-d7f7-4511-915d-f5eefcb2458d",
   "metadata": {},
   "outputs": [
    {
     "data": {
      "text/plain": [
       "Guna        1\n",
       "Noida       2\n",
       "Italy       5\n",
       "Shivpuri    4\n",
       "dtype: int64"
      ]
     },
     "execution_count": 39,
     "metadata": {},
     "output_type": "execute_result"
    }
   ],
   "source": [
    "ser2"
   ]
  },
  {
   "cell_type": "code",
   "execution_count": 40,
   "id": "430112f0-7337-4456-8e2c-9cd714ead416",
   "metadata": {},
   "outputs": [
    {
     "data": {
      "text/plain": [
       "np.int64(2)"
      ]
     },
     "execution_count": 40,
     "metadata": {},
     "output_type": "execute_result"
    }
   ],
   "source": [
    "ser2['Noida']"
   ]
  },
  {
   "cell_type": "code",
   "execution_count": 25,
   "id": "5ff728ca-4171-4be8-a2a7-857f80c1f97b",
   "metadata": {},
   "outputs": [],
   "source": [
    "ser3 = pd.Series(data =labels)"
   ]
  },
  {
   "cell_type": "code",
   "execution_count": 26,
   "id": "b3440193-d9a6-4872-8ad2-67da6e99db74",
   "metadata": {},
   "outputs": [
    {
     "data": {
      "text/plain": [
       "'a'"
      ]
     },
     "execution_count": 26,
     "metadata": {},
     "output_type": "execute_result"
    }
   ],
   "source": [
    "ser3[0]"
   ]
  },
  {
   "cell_type": "code",
   "execution_count": 41,
   "id": "57ad554c-8f1b-4900-853f-4942cb243b9f",
   "metadata": {},
   "outputs": [
    {
     "data": {
      "text/plain": [
       "Guna        1\n",
       "Noida       2\n",
       "America     5\n",
       "Shivpuri    4\n",
       "dtype: int64"
      ]
     },
     "execution_count": 41,
     "metadata": {},
     "output_type": "execute_result"
    }
   ],
   "source": [
    "ser1"
   ]
  },
  {
   "cell_type": "code",
   "execution_count": 42,
   "id": "5f3d46b2-591d-475c-a5c8-66b8d4ecce2f",
   "metadata": {},
   "outputs": [
    {
     "data": {
      "text/plain": [
       "Guna        1\n",
       "Noida       2\n",
       "Italy       5\n",
       "Shivpuri    4\n",
       "dtype: int64"
      ]
     },
     "execution_count": 42,
     "metadata": {},
     "output_type": "execute_result"
    }
   ],
   "source": [
    "ser2"
   ]
  },
  {
   "cell_type": "code",
   "execution_count": 43,
   "id": "3e151023-7692-46c4-91a4-487903d21a0d",
   "metadata": {},
   "outputs": [
    {
     "data": {
      "text/plain": [
       "America     NaN\n",
       "Guna        2.0\n",
       "Italy       NaN\n",
       "Noida       4.0\n",
       "Shivpuri    8.0\n",
       "dtype: float64"
      ]
     },
     "execution_count": 43,
     "metadata": {},
     "output_type": "execute_result"
    }
   ],
   "source": [
    "ser1+ser2"
   ]
  },
  {
   "cell_type": "markdown",
   "id": "66e06845-671b-4c66-85e0-4ca704ffd80e",
   "metadata": {},
   "source": [
    "## Data Frame"
   ]
  },
  {
   "cell_type": "code",
   "execution_count": null,
   "id": "acbd8265-dcf9-4608-b641-372d28e94636",
   "metadata": {},
   "outputs": [],
   "source": []
  }
 ],
 "metadata": {
  "kernelspec": {
   "display_name": "Python [conda env:base] *",
   "language": "python",
   "name": "conda-base-py"
  },
  "language_info": {
   "codemirror_mode": {
    "name": "ipython",
    "version": 3
   },
   "file_extension": ".py",
   "mimetype": "text/x-python",
   "name": "python",
   "nbconvert_exporter": "python",
   "pygments_lexer": "ipython3",
   "version": "3.13.5"
  }
 },
 "nbformat": 4,
 "nbformat_minor": 5
}
